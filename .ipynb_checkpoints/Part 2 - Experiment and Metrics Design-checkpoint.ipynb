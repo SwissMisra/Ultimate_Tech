{
 "cells": [
  {
   "cell_type": "markdown",
   "metadata": {},
   "source": [
    "### Explanation ###\n",
    "\n",
    "I think an A/B test would be the best type of experiment to verify whether toll reimbursement is a sufficient incentive for driver partners to take the bridge from Gotham to Metropolis.\n",
    "\n",
    "The first question to address is the target number of available driver in both Gotham and Metropolis, and compare that to current operations. It's possible that we need to move an equal number of drivers in both directions, or move more drivers in one direction than the other, and this could impact the amount we reimburse for tolls heading in either direction.\n",
    "\n",
    "With that delta, we can then determine a number of drivers to participate in a toll-reimbursement program, and compare the number of bridge crossings between the pilot program and the rest of our driver partners.\n",
    "\n",
    "We can then calculate the p-value, or confidence level, will increase bridge crossings. If it does, we can examine whether the increase will reach our target when applied to the remaining drivers. If it does not reach our target for some reason, it might be worth surveying our drivers to determine what other factors, such as driving time, traffic, etc., contribute to their decisions to stay in their respective neighborhoods."
   ]
  },
  {
   "cell_type": "code",
   "execution_count": null,
   "metadata": {},
   "outputs": [],
   "source": []
  }
 ],
 "metadata": {
  "kernelspec": {
   "display_name": "Python 3",
   "language": "python",
   "name": "python3"
  },
  "language_info": {
   "codemirror_mode": {
    "name": "ipython",
    "version": 3
   },
   "file_extension": ".py",
   "mimetype": "text/x-python",
   "name": "python",
   "nbconvert_exporter": "python",
   "pygments_lexer": "ipython3",
   "version": "3.7.4"
  }
 },
 "nbformat": 4,
 "nbformat_minor": 4
}
